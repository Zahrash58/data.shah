{
 "cells": [
  {
   "cell_type": "code",
   "execution_count": 1,
   "id": "1e4790e3-c9e2-4bc4-8894-243b8d2dad63",
   "metadata": {},
   "outputs": [],
   "source": [
    "import numpy as np"
   ]
  },
  {
   "cell_type": "code",
   "execution_count": 13,
   "id": "b4f997f7-822a-4278-b64c-707c363cd45d",
   "metadata": {},
   "outputs": [
    {
     "data": {
      "text/plain": [
       "array([[1, 1, 1, 1, 1],\n",
       "       [1, 1, 1, 1, 1],\n",
       "       [1, 1, 1, 1, 1],\n",
       "       [1, 1, 1, 1, 1]])"
      ]
     },
     "execution_count": 13,
     "metadata": {},
     "output_type": "execute_result"
    }
   ],
   "source": [
    "p1 = np.ones((4, 5), dtype = int)\n",
    "p1"
   ]
  },
  {
   "cell_type": "code",
   "execution_count": null,
   "id": "41d9f483-70b5-4f8b-bc05-02e41fd28191",
   "metadata": {},
   "outputs": [],
   "source": [
    "a = np.randint (10, 50, 3)\n",
    "df.ioc['a' %2 == 0] = -1"
   ]
  },
  {
   "cell_type": "code",
   "execution_count": null,
   "id": "f3d7588b-98f1-42c2-b49a-f1d24c1ed7f1",
   "metadata": {},
   "outputs": [],
   "source": [
    "p2 [1:21]"
   ]
  },
  {
   "cell_type": "code",
   "execution_count": null,
   "id": "4cac3fa3-ee81-40e8-93df-3608447a0186",
   "metadata": {},
   "outputs": [],
   "source": [
    "df.iloc (['a' %3 ==0])\n",
    "a"
   ]
  },
  {
   "cell_type": "code",
   "execution_count": null,
   "id": "a68bebbd-915e-4950-bd58-2ce4685ddbe5",
   "metadata": {},
   "outputs": [],
   "source": [
    "p3 = np.reshape((2, 5), dtype = int)\n",
    "p3"
   ]
  },
  {
   "cell_type": "code",
   "execution_count": null,
   "id": "14b3935c-7572-4a35-b467-823898fd1d5e",
   "metadata": {},
   "outputs": [],
   "source": [
    "df.loc ['2'] == 0"
   ]
  },
  {
   "cell_type": "code",
   "execution_count": null,
   "id": "5b16c536-7d1e-40db-a760-d54deffe0d42",
   "metadata": {},
   "outputs": [],
   "source": [
    "b1 = np.array([1.5, 2, 3, 4, 5, 6, 7, 8, 9])\n",
    "print(b1)"
   ]
  },
  {
   "cell_type": "code",
   "execution_count": 27,
   "id": "91812c98-6671-420f-a748-6aff34243c5d",
   "metadata": {},
   "outputs": [
    {
     "name": "stdout",
     "output_type": "stream",
     "text": [
      "[4.17022005e-01 7.20324493e-01 1.14374817e-04]\n",
      "[0.19151945 0.62210877 0.43772774]\n"
     ]
    }
   ],
   "source": [
    "from numpy.random import seed\n",
    "from numpy.random import rand\n",
    "b2 = seed(1)\n",
    "print(rand(3))\n",
    "seed(1234)\n",
    "print(rand(3))"
   ]
  },
  {
   "cell_type": "code",
   "execution_count": null,
   "id": "08864591-44b5-4995-84f2-e4601364b8c9",
   "metadata": {},
   "outputs": [],
   "source": [
    "b2 = np.array([[1, 1], [2, 1], [3, -3]])\n",
    "print(b2.transpose())"
   ]
  },
  {
   "cell_type": "code",
   "execution_count": null,
   "id": "6a32a916-a34b-4a85-931b-0da1a95d93ef",
   "metadata": {},
   "outputs": [],
   "source": [
    "b3 = b1.sum(b2)\n",
    "print(b3)"
   ]
  },
  {
   "cell_type": "code",
   "execution_count": null,
   "id": "53fa4023-a396-4a5a-89f1-a8f09073382d",
   "metadata": {},
   "outputs": [],
   "source": [
    "b3 = b1.dot(b2)\n",
    "print(b3)"
   ]
  },
  {
   "cell_type": "code",
   "execution_count": null,
   "id": "c71021fa-e57e-4d96-828f-b32f39953d47",
   "metadata": {},
   "outputs": [],
   "source": []
  }
 ],
 "metadata": {
  "kernelspec": {
   "display_name": "Python 3 (ipykernel)",
   "language": "python",
   "name": "python3"
  },
  "language_info": {
   "codemirror_mode": {
    "name": "ipython",
    "version": 3
   },
   "file_extension": ".py",
   "mimetype": "text/x-python",
   "name": "python",
   "nbconvert_exporter": "python",
   "pygments_lexer": "ipython3",
   "version": "3.11.7"
  }
 },
 "nbformat": 4,
 "nbformat_minor": 5
}
